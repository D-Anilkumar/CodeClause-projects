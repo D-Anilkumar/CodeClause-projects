{
  "nbformat": 4,
  "nbformat_minor": 0,
  "metadata": {
    "colab": {
      "provenance": []
    },
    "kernelspec": {
      "name": "python3",
      "display_name": "Python 3"
    },
    "language_info": {
      "name": "python"
    }
  },
  "cells": [
    {
      "cell_type": "code",
      "execution_count": 2,
      "metadata": {
        "colab": {
          "base_uri": "https://localhost:8080/"
        },
        "id": "D_Dh55YIoviE",
        "outputId": "d2fd1804-c6fd-4b9c-ee8b-788f521ac6df"
      },
      "outputs": [
        {
          "output_type": "stream",
          "name": "stdout",
          "text": [
            "xCIA0uV37*#wKE(P\n"
          ]
        }
      ],
      "source": [
        "import string\n",
        "import random\n",
        "lower = 'abcdefghijklmopqrstuvwxyz'\n",
        "upper = 'ABCDEFGHIJKLMNOPQRSTUVWXYZ'\n",
        "numbers = '0123456789'\n",
        "symbols = '!@#$%^&*(_)+=/?><\":;'\n",
        "all= lower+upper+symbols+numbers\n",
        "length= 16\n",
        "password = \"\".join(random.sample(all,length))\n",
        "print(password)"
      ]
    }
  ]
}